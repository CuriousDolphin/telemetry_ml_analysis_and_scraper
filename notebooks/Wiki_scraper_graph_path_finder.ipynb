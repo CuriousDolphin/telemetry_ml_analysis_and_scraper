{
 "cells": [
  {
   "cell_type": "code",
   "execution_count": 9,
   "id": "f24e73ac",
   "metadata": {},
   "outputs": [],
   "source": [
    "from bs4 import BeautifulSoup as bs4\n",
    "from collections import namedtuple\n",
    "import requests\n",
    "\n",
    "BASE_URI = 'https://it.wikipedia.org'\n",
    "START_URI = 'https://it.wikipedia.org/wiki/Birra'\n",
    "TARGET = 'https://it.wikipedia.org/wiki/Petrolio'\n",
    "\n",
    "Node = namedtuple('Node', ['level', 'parent'])"
   ]
  },
  {
   "cell_type": "code",
   "execution_count": 10,
   "id": "ea45d30c",
   "metadata": {},
   "outputs": [],
   "source": [
    "def get_urls_from_page(page_url, debug=False):\n",
    "    page = requests.get(page_url)\n",
    "    soup =bs4(page.content,'html.parser')\n",
    "    urls = []\n",
    "    for a in soup.find_all('a', href=True):\n",
    "        if a['href'].startswith('/wiki/'):\n",
    "            urls.append(BASE_URI+a['href'])\n",
    "    urls = list(dict.fromkeys(urls))\n",
    "    if debug:\n",
    "        print(f\"{len(urls)} urls from {page_url}\")\n",
    "    for url in urls:\n",
    "        yield url, page_url\n",
    "\n",
    "def get_urls_from_pages(pages_urls):\n",
    "    for page_url in pages_urls:\n",
    "        yield from get_urls_from_page(page_url)\n",
    "\n",
    "def search_min_path(target,level):\n",
    "    if level == max_level:\n",
    "        return (None,None)\n",
    "    last_seen_urls = [u for u in visited_urls if visited_urls[u].level == level - 1]\n",
    "    urls = get_urls_from_pages(last_seen_urls)\n",
    "    for url, parent_url in urls:\n",
    "        #print(url)\n",
    "        if visited_urls.get(url):\n",
    "            continue\n",
    "        visited_urls[url] = Node(level, parent_url)\n",
    "        if target in visited_urls:\n",
    "            return visited_urls[target]\n",
    "    return search_min_path(target,level+1)\n",
    "\n",
    "\n",
    "def print_path(node):\n",
    "    parent = node.parent\n",
    "    path = [TARGET]\n",
    "    while parent != \"STARTING_POINT\" :\n",
    "        path.append(parent)\n",
    "        parent = visited_urls[parent].parent\n",
    "    path.reverse()\n",
    "    print(path)\n"
   ]
  },
  {
   "cell_type": "code",
   "execution_count": 11,
   "id": "25a54af1",
   "metadata": {
    "scrolled": false
   },
   "outputs": [
    {
     "name": "stdout",
     "output_type": "stream",
     "text": [
      "['https://it.wikipedia.org/wiki/Birra', 'https://it.wikipedia.org/wiki/Alimento', 'https://it.wikipedia.org/wiki/Petrolio']\n"
     ]
    }
   ],
   "source": [
    "visited_urls = {START_URI: Node(0,\"STARTING_POINT\")}\n",
    "max_level = 3\n",
    "res = search_min_path(TARGET,1)\n",
    "print_path(res)"
   ]
  },
  {
   "cell_type": "code",
   "execution_count": null,
   "id": "ddafd320",
   "metadata": {},
   "outputs": [],
   "source": []
  }
 ],
 "metadata": {
  "kernelspec": {
   "display_name": "Python 3 (ipykernel)",
   "language": "python",
   "name": "python3"
  },
  "language_info": {
   "codemirror_mode": {
    "name": "ipython",
    "version": 3
   },
   "file_extension": ".py",
   "mimetype": "text/x-python",
   "name": "python",
   "nbconvert_exporter": "python",
   "pygments_lexer": "ipython3",
   "version": "3.10.4"
  }
 },
 "nbformat": 4,
 "nbformat_minor": 5
}
